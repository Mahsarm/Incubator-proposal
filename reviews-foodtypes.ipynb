{
 "cells": [
  {
   "cell_type": "code",
   "execution_count": 3,
   "metadata": {
    "collapsed": true
   },
   "outputs": [],
   "source": [
    "import numpy as np\n",
    "import pandas as pd"
   ]
  },
  {
   "cell_type": "code",
   "execution_count": 4,
   "metadata": {},
   "outputs": [],
   "source": [
    "toronto_reviews = pd.read_csv('toronto/toronto_reviews.csv')"
   ]
  },
  {
   "cell_type": "code",
   "execution_count": 6,
   "metadata": {},
   "outputs": [
    {
     "data": {
      "text/html": [
       "<div>\n",
       "<style scoped>\n",
       "    .dataframe tbody tr th:only-of-type {\n",
       "        vertical-align: middle;\n",
       "    }\n",
       "\n",
       "    .dataframe tbody tr th {\n",
       "        vertical-align: top;\n",
       "    }\n",
       "\n",
       "    .dataframe thead th {\n",
       "        text-align: right;\n",
       "    }\n",
       "</style>\n",
       "<table border=\"1\" class=\"dataframe\">\n",
       "  <thead>\n",
       "    <tr style=\"text-align: right;\">\n",
       "      <th></th>\n",
       "      <th>restaurant</th>\n",
       "      <th>review</th>\n",
       "      <th>restaurant_rate</th>\n",
       "      <th>review_rate</th>\n",
       "      <th>total_reviews</th>\n",
       "      <th>review_date</th>\n",
       "      <th>latitude</th>\n",
       "      <th>longitude</th>\n",
       "      <th>categories</th>\n",
       "    </tr>\n",
       "  </thead>\n",
       "  <tbody>\n",
       "    <tr>\n",
       "      <th>0</th>\n",
       "      <td>Katsuya</td>\n",
       "      <td>Rarely to I get excited by katsu, but Katsuya ...</td>\n",
       "      <td>4.0</td>\n",
       "      <td>5.0</td>\n",
       "      <td>136</td>\n",
       "      <td>2018-01-19</td>\n",
       "      <td>43.660047</td>\n",
       "      <td>-79.378802</td>\n",
       "      <td>Japanese , Asian Fusion</td>\n",
       "    </tr>\n",
       "    <tr>\n",
       "      <th>20</th>\n",
       "      <td>Pai Northern Thai Kitchen</td>\n",
       "      <td>We were there on a Saturday evening. It was su...</td>\n",
       "      <td>4.0</td>\n",
       "      <td>5.0</td>\n",
       "      <td>1560</td>\n",
       "      <td>2018-01-27</td>\n",
       "      <td>43.647866</td>\n",
       "      <td>-79.388642</td>\n",
       "      <td>Thai</td>\n",
       "    </tr>\n",
       "    <tr>\n",
       "      <th>40</th>\n",
       "      <td>Richmond Station</td>\n",
       "      <td>Yum Yum and Yum (AND AND AND your wallet will ...</td>\n",
       "      <td>4.0</td>\n",
       "      <td>5.0</td>\n",
       "      <td>530</td>\n",
       "      <td>2018-01-28</td>\n",
       "      <td>43.651373</td>\n",
       "      <td>-79.379285</td>\n",
       "      <td>Canadian (New)</td>\n",
       "    </tr>\n",
       "    <tr>\n",
       "      <th>60</th>\n",
       "      <td>KINKA IZAKAYA ORIGINAL</td>\n",
       "      <td>I love coming to Kinka with friends or for a d...</td>\n",
       "      <td>4.0</td>\n",
       "      <td>5.0</td>\n",
       "      <td>1209</td>\n",
       "      <td>2018-01-22</td>\n",
       "      <td>43.660524</td>\n",
       "      <td>-79.378927</td>\n",
       "      <td>Japanese , Pubs</td>\n",
       "    </tr>\n",
       "    <tr>\n",
       "      <th>80</th>\n",
       "      <td>Mymy Chicken</td>\n",
       "      <td>Mymy offers a cool yet casual place on Bloor S...</td>\n",
       "      <td>3.0</td>\n",
       "      <td>4.0</td>\n",
       "      <td>19</td>\n",
       "      <td>2018-01-27</td>\n",
       "      <td>43.666114</td>\n",
       "      <td>-79.407229</td>\n",
       "      <td>Korean , Chicken Shop</td>\n",
       "    </tr>\n",
       "  </tbody>\n",
       "</table>\n",
       "</div>"
      ],
      "text/plain": [
       "                   restaurant  \\\n",
       "0                     Katsuya   \n",
       "20  Pai Northern Thai Kitchen   \n",
       "40           Richmond Station   \n",
       "60     KINKA IZAKAYA ORIGINAL   \n",
       "80               Mymy Chicken   \n",
       "\n",
       "                                               review  restaurant_rate  \\\n",
       "0   Rarely to I get excited by katsu, but Katsuya ...              4.0   \n",
       "20  We were there on a Saturday evening. It was su...              4.0   \n",
       "40  Yum Yum and Yum (AND AND AND your wallet will ...              4.0   \n",
       "60  I love coming to Kinka with friends or for a d...              4.0   \n",
       "80  Mymy offers a cool yet casual place on Bloor S...              3.0   \n",
       "\n",
       "    review_rate  total_reviews review_date   latitude  longitude  \\\n",
       "0           5.0            136  2018-01-19  43.660047 -79.378802   \n",
       "20          5.0           1560  2018-01-27  43.647866 -79.388642   \n",
       "40          5.0            530  2018-01-28  43.651373 -79.379285   \n",
       "60          5.0           1209  2018-01-22  43.660524 -79.378927   \n",
       "80          4.0             19  2018-01-27  43.666114 -79.407229   \n",
       "\n",
       "                 categories  \n",
       "0   Japanese , Asian Fusion  \n",
       "20                     Thai  \n",
       "40           Canadian (New)  \n",
       "60          Japanese , Pubs  \n",
       "80    Korean , Chicken Shop  "
      ]
     },
     "execution_count": 6,
     "metadata": {},
     "output_type": "execute_result"
    }
   ],
   "source": [
    "restaurants_rating = toronto_reviews.drop_duplicates(['latitude', 'latitude'])\n",
    "restaurants_rating.head()"
   ]
  },
  {
   "cell_type": "code",
   "execution_count": 7,
   "metadata": {},
   "outputs": [],
   "source": [
    "res = restaurants_rating.groupby(restaurants_rating['categories'])['total_reviews'].sum()\n",
    "\n",
    "cat =pd.Series([res.Japanese,res.Filipino, res.French, \n",
    "                res.Korean, res.Mediterranean, res.Mexican, res.Indian, res.Vietnamese],\n",
    "              index=['Japanese','Filipino', 'French', \\\n",
    "                     'Korean','Mediterranean','Mexican', \\\n",
    "                     'Indian' ,'Vietnamese']).sort_values(axis=0, ascending=False)"
   ]
  },
  {
   "cell_type": "code",
   "execution_count": 9,
   "metadata": {},
   "outputs": [
    {
     "data": {
      "image/png": "[encoded data removed]",
      "text/plain": [
       "<matplotlib.figure.Figure at 0x7fe8f5171f50>"
      ]
     },
     "metadata": {},
     "output_type": "display_data"
    }
   ],
   "source": [
    "%matplotlib inline\n",
    "\n",
    "import matplotlib.pyplot as plt\n",
    "import matplotlib \n",
    "\n",
    "ax = cat.plot.bar(figsize=(16,10), color='#3232ff')\n",
    "ax.set_ylabel(\"Number of Reviews\", fontname=\"Arial\", fontsize=15)\n",
    "plt.xticks(size=14, rotation = 0)\n",
    "plt.yticks(size=14)\n",
    "plt.savefig('reviews-barchart.png')"
   ]
  },
  {
   "cell_type": "code",
   "execution_count": null,
   "metadata": {
    "collapsed": true
   },
   "outputs": [],
   "source": []
  }
 ],
 "metadata": {
  "kernelspec": {
   "display_name": "Python 2",
   "language": "python",
   "name": "python2"
  },
  "language_info": {
   "codemirror_mode": {
    "name": "ipython",
    "version": 2
   },
   "file_extension": ".py",
   "mimetype": "text/x-python",
   "name": "python",
   "nbconvert_exporter": "python",
   "pygments_lexer": "ipython2",
   "version": "2.7.12"
  }
 },
 "nbformat": 4,
 "nbformat_minor": 2
}
